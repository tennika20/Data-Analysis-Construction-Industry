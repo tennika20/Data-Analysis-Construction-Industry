{
 "cells": [
  {
   "cell_type": "code",
   "execution_count": 75,
   "id": "24ef6295",
   "metadata": {},
   "outputs": [
    {
     "name": "stderr",
     "output_type": "stream",
     "text": [
      "/var/folders/l3/xyc3w3h905bbx2syz1k8blym0000gn/T/ipykernel_8442/457555961.py:13: MatplotlibDeprecationWarning:\n",
      "\n",
      "The seaborn styles shipped by Matplotlib are deprecated since 3.6, as they no longer correspond to the styles shipped by seaborn. However, they will remain available as 'seaborn-v0_8-<style>'. Alternatively, directly use the seaborn API instead.\n",
      "\n"
     ]
    }
   ],
   "source": [
    "import pip\n",
    "import cv2\n",
    "import numpy as np\n",
    "import pandas as pd\n",
    "import math\n",
    "import datetime\n",
    "import plotly.express as px\n",
    "from plotly.subplots import make_subplots\n",
    "import plotly.graph_objects as go\n",
    "from plotly.offline import plot\n",
    "import seaborn as sns\n",
    "from matplotlib import pyplot as plt\n",
    "plt.style.use('seaborn')"
   ]
  },
  {
   "cell_type": "code",
   "execution_count": 76,
   "id": "ec13ec4a",
   "metadata": {},
   "outputs": [],
   "source": [
    "df=pd.read_csv('./all_metro_employment.csv')\n",
    "new_df = df[['state','area','time','Total Nonfarm','Mining, Logging and Construction']].copy()\n",
    "new_df_no = new_df.dropna()\n",
    "df_nonull = new_df_no.copy()"
   ]
  },
  {
   "cell_type": "code",
   "execution_count": 77,
   "id": "c26feace",
   "metadata": {},
   "outputs": [
    {
     "data": {
      "text/html": [
       "<div>\n",
       "<style scoped>\n",
       "    .dataframe tbody tr th:only-of-type {\n",
       "        vertical-align: middle;\n",
       "    }\n",
       "\n",
       "    .dataframe tbody tr th {\n",
       "        vertical-align: top;\n",
       "    }\n",
       "\n",
       "    .dataframe thead th {\n",
       "        text-align: right;\n",
       "    }\n",
       "</style>\n",
       "<table border=\"1\" class=\"dataframe\">\n",
       "  <thead>\n",
       "    <tr style=\"text-align: right;\">\n",
       "      <th></th>\n",
       "      <th>state</th>\n",
       "      <th>area</th>\n",
       "      <th>time</th>\n",
       "      <th>Total Nonfarm</th>\n",
       "      <th>Mining, Logging and Construction</th>\n",
       "      <th>month</th>\n",
       "      <th>Year</th>\n",
       "    </tr>\n",
       "  </thead>\n",
       "  <tbody>\n",
       "    <tr>\n",
       "      <th>0</th>\n",
       "      <td>Alabama</td>\n",
       "      <td>Anniston-Oxford-Jacksonville</td>\n",
       "      <td>jan 1, 2011</td>\n",
       "      <td>48.3</td>\n",
       "      <td>1.0</td>\n",
       "      <td>1</td>\n",
       "      <td>2011</td>\n",
       "    </tr>\n",
       "    <tr>\n",
       "      <th>1</th>\n",
       "      <td>Alabama</td>\n",
       "      <td>Anniston-Oxford-Jacksonville</td>\n",
       "      <td>feb 1, 2011</td>\n",
       "      <td>48.2</td>\n",
       "      <td>0.9</td>\n",
       "      <td>2</td>\n",
       "      <td>2011</td>\n",
       "    </tr>\n",
       "    <tr>\n",
       "      <th>2</th>\n",
       "      <td>Alabama</td>\n",
       "      <td>Anniston-Oxford-Jacksonville</td>\n",
       "      <td>mar 1, 2011</td>\n",
       "      <td>48.6</td>\n",
       "      <td>1.0</td>\n",
       "      <td>3</td>\n",
       "      <td>2011</td>\n",
       "    </tr>\n",
       "    <tr>\n",
       "      <th>3</th>\n",
       "      <td>Alabama</td>\n",
       "      <td>Anniston-Oxford-Jacksonville</td>\n",
       "      <td>apr 1, 2011</td>\n",
       "      <td>48.6</td>\n",
       "      <td>0.9</td>\n",
       "      <td>4</td>\n",
       "      <td>2011</td>\n",
       "    </tr>\n",
       "    <tr>\n",
       "      <th>4</th>\n",
       "      <td>Alabama</td>\n",
       "      <td>Anniston-Oxford-Jacksonville</td>\n",
       "      <td>may 1, 2011</td>\n",
       "      <td>48.6</td>\n",
       "      <td>1.0</td>\n",
       "      <td>5</td>\n",
       "      <td>2011</td>\n",
       "    </tr>\n",
       "    <tr>\n",
       "      <th>...</th>\n",
       "      <td>...</td>\n",
       "      <td>...</td>\n",
       "      <td>...</td>\n",
       "      <td>...</td>\n",
       "      <td>...</td>\n",
       "      <td>...</td>\n",
       "      <td>...</td>\n",
       "    </tr>\n",
       "    <tr>\n",
       "      <th>57779</th>\n",
       "      <td>Wyoming</td>\n",
       "      <td>Cheyenne</td>\n",
       "      <td>dec 1, 2020</td>\n",
       "      <td>46.0</td>\n",
       "      <td>3.5</td>\n",
       "      <td>12</td>\n",
       "      <td>2020</td>\n",
       "    </tr>\n",
       "    <tr>\n",
       "      <th>57780</th>\n",
       "      <td>Wyoming</td>\n",
       "      <td>Cheyenne</td>\n",
       "      <td>jan 1, 2021</td>\n",
       "      <td>45.3</td>\n",
       "      <td>3.3</td>\n",
       "      <td>1</td>\n",
       "      <td>2021</td>\n",
       "    </tr>\n",
       "    <tr>\n",
       "      <th>57781</th>\n",
       "      <td>Wyoming</td>\n",
       "      <td>Cheyenne</td>\n",
       "      <td>feb 1, 2021</td>\n",
       "      <td>45.4</td>\n",
       "      <td>3.3</td>\n",
       "      <td>2</td>\n",
       "      <td>2021</td>\n",
       "    </tr>\n",
       "    <tr>\n",
       "      <th>57782</th>\n",
       "      <td>Wyoming</td>\n",
       "      <td>Cheyenne</td>\n",
       "      <td>mar 1, 2021</td>\n",
       "      <td>45.8</td>\n",
       "      <td>3.4</td>\n",
       "      <td>3</td>\n",
       "      <td>2021</td>\n",
       "    </tr>\n",
       "    <tr>\n",
       "      <th>57783</th>\n",
       "      <td>Wyoming</td>\n",
       "      <td>Cheyenne</td>\n",
       "      <td>apr 1, 2021</td>\n",
       "      <td>46.2</td>\n",
       "      <td>3.5</td>\n",
       "      <td>4</td>\n",
       "      <td>2021</td>\n",
       "    </tr>\n",
       "  </tbody>\n",
       "</table>\n",
       "<p>57784 rows × 7 columns</p>\n",
       "</div>"
      ],
      "text/plain": [
       "         state                          area         time  Total Nonfarm  \\\n",
       "0      Alabama  Anniston-Oxford-Jacksonville  jan 1, 2011           48.3   \n",
       "1      Alabama  Anniston-Oxford-Jacksonville  feb 1, 2011           48.2   \n",
       "2      Alabama  Anniston-Oxford-Jacksonville  mar 1, 2011           48.6   \n",
       "3      Alabama  Anniston-Oxford-Jacksonville  apr 1, 2011           48.6   \n",
       "4      Alabama  Anniston-Oxford-Jacksonville  may 1, 2011           48.6   \n",
       "...        ...                           ...          ...            ...   \n",
       "57779  Wyoming                      Cheyenne  dec 1, 2020           46.0   \n",
       "57780  Wyoming                      Cheyenne  jan 1, 2021           45.3   \n",
       "57781  Wyoming                      Cheyenne  feb 1, 2021           45.4   \n",
       "57782  Wyoming                      Cheyenne  mar 1, 2021           45.8   \n",
       "57783  Wyoming                      Cheyenne  apr 1, 2021           46.2   \n",
       "\n",
       "       Mining, Logging and Construction  month  Year  \n",
       "0                                   1.0      1  2011  \n",
       "1                                   0.9      2  2011  \n",
       "2                                   1.0      3  2011  \n",
       "3                                   0.9      4  2011  \n",
       "4                                   1.0      5  2011  \n",
       "...                                 ...    ...   ...  \n",
       "57779                               3.5     12  2020  \n",
       "57780                               3.3      1  2021  \n",
       "57781                               3.3      2  2021  \n",
       "57782                               3.4      3  2021  \n",
       "57783                               3.5      4  2021  \n",
       "\n",
       "[57784 rows x 7 columns]"
      ]
     },
     "metadata": {},
     "output_type": "display_data"
    }
   ],
   "source": [
    "df_nonull['newdate'] = pd.to_datetime(df_nonull['time'])\n",
    "df_nonull['month'] = df_nonull['newdate'].dt.month\n",
    "df_nonull[['time_period', 'Year']] = df_nonull.time.str.split(', ', expand = True)\n",
    "df_nonull.drop('time_period', axis=1, inplace=True)\n",
    "df_nonull.drop('newdate', axis=1, inplace=True)\n",
    "display(df_nonull)"
   ]
  },
  {
   "cell_type": "code",
   "execution_count": 78,
   "id": "aee619a5",
   "metadata": {},
   "outputs": [],
   "source": [
    "# data1=df_nonull.groupby(['Year']).sum().reset_index()\n",
    "# fig1 = px.line(data1, x=\"Year\", y=\"Mining, Logging and Construction\")\n",
    "# fig1.update_layout(title_text='Change in employement numbers over time', title_x=0.5)\n",
    "# fig1.show()"
   ]
  },
  {
   "cell_type": "code",
   "execution_count": 79,
   "id": "585a927a",
   "metadata": {},
   "outputs": [],
   "source": [
    "# Months4 = df_nonull[df_nonull[\"month\"].isin([1,2,3,4])]\n",
    "# data2=Months4.groupby(['Year']).sum().reset_index()\n",
    "# fig2 = px.line(data2, x=\"Year\", y=\"Mining, Logging and Construction\")\n",
    "# fig2.update_layout(title_text='Change in employement numbers over time', title_x=0.5)\n",
    "# fig2.show()"
   ]
  },
  {
   "cell_type": "code",
   "execution_count": 80,
   "id": "1dcda487",
   "metadata": {},
   "outputs": [],
   "source": [
    "# data = df_nonull[df_nonull[\"Year\"]< \"2021\"]\n",
    "# data2=data.groupby(['state','Year']).sum().reset_index()\n",
    "# fig2 = px.bar(data2, x=\"state\", y=\"Mining, Logging and Construction\",color=\"Year\")\n",
    "# fig2.update_layout(title_text='Total Construction jobs in all metropolitan areas', title_x=0.5)\n",
    "# fig2.show()"
   ]
  },
  {
   "cell_type": "code",
   "execution_count": 81,
   "id": "d5f959f0",
   "metadata": {
    "scrolled": true
   },
   "outputs": [],
   "source": [
    "# rows = 5\n",
    "# cols = 2\n",
    "# subplot_titles = [\"California\", \"Pennsylvania\", \"District of Columbia\", \"Texas\", \"Illinois\", \"Massachusetts\", \"Florida\", \"Missouri\", \"New York\", \"Georgia\"]\n",
    "\n",
    "# subplots_fig = make_subplots(\n",
    "#         rows=rows,\n",
    "#         cols=cols,\n",
    "#         subplot_titles=subplot_titles,  \n",
    "#         print_grid=True,\n",
    "# #     vertical_spacing=0.085,\n",
    "# #                     horizontal_spacing=0.085,\n",
    "#                     x_title='Years',\n",
    "#                     y_title='Number of employees in Construction')\n",
    "# #     horizontal_spacing=0.15, vertical_spacing=0.15)\n",
    "\n",
    "# data_sub2 = data2.loc[data2['state'].isin([\"California\", \"Pennsylvania\", \"District of Columbia\", \"Texas\", \"Illinois\", \"Massachusetts\", \"Florida\", \"Missouri\", \"New York\", \"Georgia\"])]             \n",
    "# Cali = data_sub2[data_sub2[\"state\"]==\"California\"]\n",
    "# Colum = data_sub2[data_sub2[\"state\"]==\"District of Columbia\"]\n",
    "# Illi = data_sub2[data_sub2[\"state\"]==\"Illinois\"]\n",
    "# NewY = data_sub2[data_sub2[\"state\"]==\"New York\"]\n",
    "# Pen = data_sub2[data_sub2[\"state\"]==\"Pennsylvania\"]\n",
    "# Texas = data_sub2[data_sub2[\"state\"]==\"Texas\"]\n",
    "# Florida = data_sub2[data_sub2[\"state\"]==\"Florida\"]\n",
    "# Mass = data_sub2[data_sub2[\"state\"]==\"Massachusetts\"]\n",
    "# Missouri = data_sub2[data_sub2[\"state\"]==\"Missouri\"]\n",
    "# Georgia = data_sub2[data_sub2[\"state\"]==\"Georgia\"]\n",
    "\n",
    "# subplots_fig.add_trace(\n",
    "#     go.Scatter(x=Cali[\"Year\"],y=Cali[\"Mining, Logging and Construction\"], marker=dict(color=\"crimson\"), showlegend=False),\n",
    "#     row=1, col=1\n",
    "# )\n",
    "\n",
    "# subplots_fig.add_trace(\n",
    "#     go.Scatter(x=Colum[\"Year\"],y=Colum[\"Mining, Logging and Construction\"], marker=dict(color=\"crimson\"), showlegend=False),\n",
    "#     row=2, col=1\n",
    "# )\n",
    "\n",
    "# subplots_fig.add_trace(\n",
    "#     go.Scatter(x=Illi[\"Year\"],y=Illi[\"Mining, Logging and Construction\"], marker=dict(color=\"crimson\"), showlegend=False),\n",
    "#     row=3, col=1\n",
    "# )\n",
    "\n",
    "\n",
    "# subplots_fig.add_trace(\n",
    "#     go.Scatter(x=Florida[\"Year\"],y=Florida[\"Mining, Logging and Construction\"], marker=dict(color=\"crimson\"), showlegend=False),\n",
    "#     row=4, col=1\n",
    "# )\n",
    "\n",
    "# subplots_fig.add_trace(\n",
    "#     go.Scatter(x=NewY[\"Year\"],y=NewY[\"Mining, Logging and Construction\"], marker=dict(color=\"crimson\"), showlegend=False),\n",
    "#     row=5, col=1\n",
    "# )\n",
    "# subplots_fig.add_trace(\n",
    "#     go.Scatter(x=Pen[\"Year\"],y=Pen[\"Mining, Logging and Construction\"], marker=dict(color=\"crimson\"), showlegend=False),\n",
    "#     row=1, col=2\n",
    "# )\n",
    "# subplots_fig.add_trace(\n",
    "#     go.Scatter(x=Texas[\"Year\"],y=Texas[\"Mining, Logging and Construction\"], marker=dict(color=\"crimson\"), showlegend=False),\n",
    "#     row=2, col=2\n",
    "# )\n",
    "\n",
    "# subplots_fig.add_trace(\n",
    "#     go.Scatter(x=Mass[\"Year\"],y=Mass[\"Mining, Logging and Construction\"], marker=dict(color=\"crimson\"), showlegend=False),\n",
    "#     row=3, col=2\n",
    "# )\n",
    "\n",
    "# subplots_fig.add_trace(\n",
    "#     go.Scatter(x=Missouri[\"Year\"],y=Missouri[\"Mining, Logging and Construction\"], marker=dict(color=\"crimson\"), showlegend=False),\n",
    "#     row=4, col=2\n",
    "# )\n",
    "\n",
    "# subplots_fig.add_trace(\n",
    "#     go.Scatter(x=Georgia[\"Year\"],y=Georgia[\"Mining, Logging and Construction\"], marker=dict(color=\"crimson\"), showlegend=False),\n",
    "#     row=5, col=2\n",
    "# )\n",
    "\n",
    "# subplots_fig.update_layout(height = 1000, width = 900, autosize = False, title=\"Yearly changes for top 10 metropolitan areas\",  \n",
    "#                            title_x=0.5)\n",
    "\n",
    "\n",
    "# subplots_fig.show()\n"
   ]
  },
  {
   "cell_type": "code",
   "execution_count": 82,
   "id": "106176fc",
   "metadata": {},
   "outputs": [],
   "source": [
    "# data3=data.groupby(['Year','state']).sum().reset_index()\n",
    "# data_sub3 = data3.loc[data3['state'].isin([\"California\", \"District of Columbia\", \"Illinois\", \"Florida\", \"New York\", \"Pennsylvania\", \"Texas\", \"Massachusetts\", \"Missouri\", \"Georgia\"])]             \n",
    "\n",
    "# Cali1 = data_sub3[data_sub3[\"state\"]==\"California\"]\n",
    "# Colum1 = data_sub3[data_sub3[\"state\"]==\"District of Columbia\"]\n",
    "# Illi1 = data_sub3[data_sub3[\"state\"]==\"Illinois\"]\n",
    "# NewY1 = data_sub3[data_sub3[\"state\"]==\"New York\"]\n",
    "# Pen1 = data_sub3[data_sub3[\"state\"]==\"Pennsylvania\"]\n",
    "# Texas1 = data_sub3[data_sub3[\"state\"]==\"Texas\"]\n",
    "# Florida1 = data_sub3[data_sub3[\"state\"]==\"Florida\"]\n",
    "# Mass1 = data_sub3[data_sub3[\"state\"]==\"Massachusetts\"]\n",
    "# Missouri1 = data_sub3[data_sub3[\"state\"]==\"Missouri\"]\n",
    "# Georgia1 = data_sub3[data_sub3[\"state\"]==\"Georgia\"]\n",
    "\n",
    "\n",
    "# fig, axes = plt.subplots(5, 2, figsize=(15, 20))\n",
    "\n",
    "\n",
    "# sns.lineplot(ax=axes[0, 0], data=Cali1, x='Year', y='Mining, Logging and Construction').set(title='Califonia')\n",
    "# sns.lineplot(ax=axes[0, 1], data=Colum1, x='Year', y='Mining, Logging and Construction').set(title='District of Columbia')\n",
    "# sns.lineplot(ax=axes[1, 0], data=Illi1, x='Year', y='Mining, Logging and Construction').set(title='Illinois')\n",
    "# sns.lineplot(ax=axes[1, 1], data=NewY1, x='Year', y='Mining, Logging and Construction').set(title='New York')\n",
    "# sns.lineplot(ax=axes[2, 0], data=Pen1, x='Year', y='Mining, Logging and Construction').set(title='Pennsylvania')\n",
    "# sns.lineplot(ax=axes[2, 1], data=Texas1, x='Year', y='Mining, Logging and Construction').set(title='Texas')\n",
    "# sns.lineplot(ax=axes[3, 0], data=Florida1, x='Year', y='Mining, Logging and Construction').set(title='Florida')\n",
    "# sns.lineplot(ax=axes[3, 1], data=Mass1, x='Year', y='Mining, Logging and Construction').set(title='Massachusetts')\n",
    "# sns.lineplot(ax=axes[4, 0], data=Missouri1, x='Year', y='Mining, Logging and Construction').set(title='Missouri')\n",
    "# sns.lineplot(ax=axes[4, 1], data=Georgia1, x='Year', y='Mining, Logging and Construction').set(title='Georgia')\n",
    "# fig.tight_layout(pad=5.0)\n",
    "\n",
    "# fig.subplots_adjust(top=0.95)\n",
    "# fig.suptitle('Yearly changes for top 10 metropolitan areas', fontsize=16)\n",
    "\n"
   ]
  },
  {
   "cell_type": "code",
   "execution_count": 83,
   "id": "a8d00c48",
   "metadata": {},
   "outputs": [],
   "source": [
    "# data3=data.groupby(['month','state']).sum().reset_index()\n",
    "# data_sub3 = data3.loc[data3['state'].isin([\"California\", \"District of Columbia\", \"Illinois\", \"Florida\", \"New York\", \"Pennsylvania\", \"Texas\", \"Massachusetts\", \"Missouri\", \"Georgia\"])]             \n",
    "\n",
    "# Cali1 = data_sub3[data_sub3[\"state\"]==\"California\"]\n",
    "# Colum1 = data_sub3[data_sub3[\"state\"]==\"District of Columbia\"]\n",
    "# Illi1 = data_sub3[data_sub3[\"state\"]==\"Illinois\"]\n",
    "# NewY1 = data_sub3[data_sub3[\"state\"]==\"New York\"]\n",
    "# Pen1 = data_sub3[data_sub3[\"state\"]==\"Pennsylvania\"]\n",
    "# Texas1 = data_sub3[data_sub3[\"state\"]==\"Texas\"]\n",
    "# Florida1 = data_sub3[data_sub3[\"state\"]==\"Florida\"]\n",
    "# Mass1 = data_sub3[data_sub3[\"state\"]==\"Massachusetts\"]\n",
    "# Missouri1 = data_sub3[data_sub3[\"state\"]==\"Missouri\"]\n",
    "# Georgia1 = data_sub3[data_sub3[\"state\"]==\"Georgia\"]\n",
    "\n",
    "\n",
    "# fig, axes = plt.subplots(5, 2, figsize=(15, 20))\n",
    "\n",
    "\n",
    "# sns.lineplot(ax=axes[0, 0], data=Cali1, x='month', y='Mining, Logging and Construction').set(title='Califonia')\n",
    "# sns.lineplot(ax=axes[0, 1], data=Colum1, x='month', y='Mining, Logging and Construction').set(title='District of Columbia')\n",
    "# sns.lineplot(ax=axes[1, 0], data=Illi1, x='month', y='Mining, Logging and Construction').set(title='Illinois')\n",
    "# sns.lineplot(ax=axes[1, 1], data=NewY1, x='month', y='Mining, Logging and Construction').set(title='New York')\n",
    "# sns.lineplot(ax=axes[2, 0], data=Pen1, x='month', y='Mining, Logging and Construction').set(title='Pennsylvania')\n",
    "# sns.lineplot(ax=axes[2, 1], data=Texas1, x='month', y='Mining, Logging and Construction').set(title='Texas')\n",
    "# sns.lineplot(ax=axes[3, 0], data=Florida1, x='month', y='Mining, Logging and Construction').set(title='Florida')\n",
    "# sns.lineplot(ax=axes[3, 1], data=Mass1, x='month', y='Mining, Logging and Construction').set(title='Massachusetts')\n",
    "# sns.lineplot(ax=axes[4, 0], data=Missouri1, x='month', y='Mining, Logging and Construction').set(title='Missouri')\n",
    "# sns.lineplot(ax=axes[4, 1], data=Georgia1, x='month', y='Mining, Logging and Construction').set(title='Georgia')\n",
    "# fig.tight_layout(pad=5.0)\n",
    "\n",
    "# fig.subplots_adjust(top=0.95)\n",
    "# fig.suptitle('Monthly changes for top 10 metropolitan areas', fontsize=16)\n",
    "\n"
   ]
  },
  {
   "cell_type": "code",
   "execution_count": 84,
   "id": "6b391d5d",
   "metadata": {},
   "outputs": [],
   "source": [
    "# data4=data.groupby(['state', 'area', 'Year','month']).sum().reset_index()\n",
    "# stateT = data4[data4[\"state\"] ==\"Texas\"]\n",
    "\n",
    "# fig3 = px.sunburst(stateT, path= ['area'],values='Mining, Logging and Construction', \n",
    "#                    color='area', hover_data=['Mining, Logging and Construction'],\n",
    "#                    color_continuous_scale='RdBu',\n",
    "#                    color_continuous_midpoint=np.average(stateT['Mining, Logging and Construction']))\n",
    "\n",
    "# fig3.update_layout(\n",
    "#     showlegend=False,\n",
    "#     font={'size': 12},\n",
    "#     title={'text': '<b>Metropolitan areas in Texas</b>', 'font': {'size': 18}},\n",
    "#     title_x=0.5\n",
    "# )\n",
    "                   \n",
    "# fig3.show()"
   ]
  },
  {
   "cell_type": "code",
   "execution_count": 85,
   "id": "2b3d80c4",
   "metadata": {},
   "outputs": [
    {
     "name": "stderr",
     "output_type": "stream",
     "text": [
      "/var/folders/l3/xyc3w3h905bbx2syz1k8blym0000gn/T/ipykernel_8442/250056377.py:2: FutureWarning:\n",
      "\n",
      "The default value of numeric_only in DataFrameGroupBy.sum is deprecated. In a future version, numeric_only will default to False. Either specify numeric_only or select only columns which should be valid for the function.\n",
      "\n",
      "/Users/esshariprasad/miniforge3/envs/tf/lib/python3.10/site-packages/plotly/graph_objs/_deprecations.py:378: DeprecationWarning:\n",
      "\n",
      "plotly.graph_objs.Line is deprecated.\n",
      "Please replace it with one of the following more specific types\n",
      "  - plotly.graph_objs.scatter.Line\n",
      "  - plotly.graph_objs.layout.shape.Line\n",
      "  - etc.\n",
      "\n",
      "\n"
     ]
    },
    {
     "data": {
      "application/vnd.plotly.v1+json": {
       "config": {
        "plotlyServerURL": "https://plot.ly"
       },
       "data": [
        {
         "type": "scatter",
         "x": [
          "2011",
          "2012",
          "2013",
          "2014",
          "2015",
          "2016",
          "2017",
          "2018",
          "2019",
          "2020"
         ],
         "y": [
          3174.4,
          3385.3,
          3595.1,
          3791.2999999999997,
          3799.2,
          3599.3,
          3500.5,
          3617.4,
          3792.8,
          3409.4
         ]
        }
       ],
       "layout": {
        "showlegend": false,
        "template": {
         "data": {
          "bar": [
           {
            "error_x": {
             "color": "#2a3f5f"
            },
            "error_y": {
             "color": "#2a3f5f"
            },
            "marker": {
             "line": {
              "color": "#E5ECF6",
              "width": 0.5
             },
             "pattern": {
              "fillmode": "overlay",
              "size": 10,
              "solidity": 0.2
             }
            },
            "type": "bar"
           }
          ],
          "barpolar": [
           {
            "marker": {
             "line": {
              "color": "#E5ECF6",
              "width": 0.5
             },
             "pattern": {
              "fillmode": "overlay",
              "size": 10,
              "solidity": 0.2
             }
            },
            "type": "barpolar"
           }
          ],
          "carpet": [
           {
            "aaxis": {
             "endlinecolor": "#2a3f5f",
             "gridcolor": "white",
             "linecolor": "white",
             "minorgridcolor": "white",
             "startlinecolor": "#2a3f5f"
            },
            "baxis": {
             "endlinecolor": "#2a3f5f",
             "gridcolor": "white",
             "linecolor": "white",
             "minorgridcolor": "white",
             "startlinecolor": "#2a3f5f"
            },
            "type": "carpet"
           }
          ],
          "choropleth": [
           {
            "colorbar": {
             "outlinewidth": 0,
             "ticks": ""
            },
            "type": "choropleth"
           }
          ],
          "contour": [
           {
            "colorbar": {
             "outlinewidth": 0,
             "ticks": ""
            },
            "colorscale": [
             [
              0,
              "#0d0887"
             ],
             [
              0.1111111111111111,
              "#46039f"
             ],
             [
              0.2222222222222222,
              "#7201a8"
             ],
             [
              0.3333333333333333,
              "#9c179e"
             ],
             [
              0.4444444444444444,
              "#bd3786"
             ],
             [
              0.5555555555555556,
              "#d8576b"
             ],
             [
              0.6666666666666666,
              "#ed7953"
             ],
             [
              0.7777777777777778,
              "#fb9f3a"
             ],
             [
              0.8888888888888888,
              "#fdca26"
             ],
             [
              1,
              "#f0f921"
             ]
            ],
            "type": "contour"
           }
          ],
          "contourcarpet": [
           {
            "colorbar": {
             "outlinewidth": 0,
             "ticks": ""
            },
            "type": "contourcarpet"
           }
          ],
          "heatmap": [
           {
            "colorbar": {
             "outlinewidth": 0,
             "ticks": ""
            },
            "colorscale": [
             [
              0,
              "#0d0887"
             ],
             [
              0.1111111111111111,
              "#46039f"
             ],
             [
              0.2222222222222222,
              "#7201a8"
             ],
             [
              0.3333333333333333,
              "#9c179e"
             ],
             [
              0.4444444444444444,
              "#bd3786"
             ],
             [
              0.5555555555555556,
              "#d8576b"
             ],
             [
              0.6666666666666666,
              "#ed7953"
             ],
             [
              0.7777777777777778,
              "#fb9f3a"
             ],
             [
              0.8888888888888888,
              "#fdca26"
             ],
             [
              1,
              "#f0f921"
             ]
            ],
            "type": "heatmap"
           }
          ],
          "heatmapgl": [
           {
            "colorbar": {
             "outlinewidth": 0,
             "ticks": ""
            },
            "colorscale": [
             [
              0,
              "#0d0887"
             ],
             [
              0.1111111111111111,
              "#46039f"
             ],
             [
              0.2222222222222222,
              "#7201a8"
             ],
             [
              0.3333333333333333,
              "#9c179e"
             ],
             [
              0.4444444444444444,
              "#bd3786"
             ],
             [
              0.5555555555555556,
              "#d8576b"
             ],
             [
              0.6666666666666666,
              "#ed7953"
             ],
             [
              0.7777777777777778,
              "#fb9f3a"
             ],
             [
              0.8888888888888888,
              "#fdca26"
             ],
             [
              1,
              "#f0f921"
             ]
            ],
            "type": "heatmapgl"
           }
          ],
          "histogram": [
           {
            "marker": {
             "pattern": {
              "fillmode": "overlay",
              "size": 10,
              "solidity": 0.2
             }
            },
            "type": "histogram"
           }
          ],
          "histogram2d": [
           {
            "colorbar": {
             "outlinewidth": 0,
             "ticks": ""
            },
            "colorscale": [
             [
              0,
              "#0d0887"
             ],
             [
              0.1111111111111111,
              "#46039f"
             ],
             [
              0.2222222222222222,
              "#7201a8"
             ],
             [
              0.3333333333333333,
              "#9c179e"
             ],
             [
              0.4444444444444444,
              "#bd3786"
             ],
             [
              0.5555555555555556,
              "#d8576b"
             ],
             [
              0.6666666666666666,
              "#ed7953"
             ],
             [
              0.7777777777777778,
              "#fb9f3a"
             ],
             [
              0.8888888888888888,
              "#fdca26"
             ],
             [
              1,
              "#f0f921"
             ]
            ],
            "type": "histogram2d"
           }
          ],
          "histogram2dcontour": [
           {
            "colorbar": {
             "outlinewidth": 0,
             "ticks": ""
            },
            "colorscale": [
             [
              0,
              "#0d0887"
             ],
             [
              0.1111111111111111,
              "#46039f"
             ],
             [
              0.2222222222222222,
              "#7201a8"
             ],
             [
              0.3333333333333333,
              "#9c179e"
             ],
             [
              0.4444444444444444,
              "#bd3786"
             ],
             [
              0.5555555555555556,
              "#d8576b"
             ],
             [
              0.6666666666666666,
              "#ed7953"
             ],
             [
              0.7777777777777778,
              "#fb9f3a"
             ],
             [
              0.8888888888888888,
              "#fdca26"
             ],
             [
              1,
              "#f0f921"
             ]
            ],
            "type": "histogram2dcontour"
           }
          ],
          "mesh3d": [
           {
            "colorbar": {
             "outlinewidth": 0,
             "ticks": ""
            },
            "type": "mesh3d"
           }
          ],
          "parcoords": [
           {
            "line": {
             "colorbar": {
              "outlinewidth": 0,
              "ticks": ""
             }
            },
            "type": "parcoords"
           }
          ],
          "pie": [
           {
            "automargin": true,
            "type": "pie"
           }
          ],
          "scatter": [
           {
            "fillpattern": {
             "fillmode": "overlay",
             "size": 10,
             "solidity": 0.2
            },
            "type": "scatter"
           }
          ],
          "scatter3d": [
           {
            "line": {
             "colorbar": {
              "outlinewidth": 0,
              "ticks": ""
             }
            },
            "marker": {
             "colorbar": {
              "outlinewidth": 0,
              "ticks": ""
             }
            },
            "type": "scatter3d"
           }
          ],
          "scattercarpet": [
           {
            "marker": {
             "colorbar": {
              "outlinewidth": 0,
              "ticks": ""
             }
            },
            "type": "scattercarpet"
           }
          ],
          "scattergeo": [
           {
            "marker": {
             "colorbar": {
              "outlinewidth": 0,
              "ticks": ""
             }
            },
            "type": "scattergeo"
           }
          ],
          "scattergl": [
           {
            "marker": {
             "colorbar": {
              "outlinewidth": 0,
              "ticks": ""
             }
            },
            "type": "scattergl"
           }
          ],
          "scattermapbox": [
           {
            "marker": {
             "colorbar": {
              "outlinewidth": 0,
              "ticks": ""
             }
            },
            "type": "scattermapbox"
           }
          ],
          "scatterpolar": [
           {
            "marker": {
             "colorbar": {
              "outlinewidth": 0,
              "ticks": ""
             }
            },
            "type": "scatterpolar"
           }
          ],
          "scatterpolargl": [
           {
            "marker": {
             "colorbar": {
              "outlinewidth": 0,
              "ticks": ""
             }
            },
            "type": "scatterpolargl"
           }
          ],
          "scatterternary": [
           {
            "marker": {
             "colorbar": {
              "outlinewidth": 0,
              "ticks": ""
             }
            },
            "type": "scatterternary"
           }
          ],
          "surface": [
           {
            "colorbar": {
             "outlinewidth": 0,
             "ticks": ""
            },
            "colorscale": [
             [
              0,
              "#0d0887"
             ],
             [
              0.1111111111111111,
              "#46039f"
             ],
             [
              0.2222222222222222,
              "#7201a8"
             ],
             [
              0.3333333333333333,
              "#9c179e"
             ],
             [
              0.4444444444444444,
              "#bd3786"
             ],
             [
              0.5555555555555556,
              "#d8576b"
             ],
             [
              0.6666666666666666,
              "#ed7953"
             ],
             [
              0.7777777777777778,
              "#fb9f3a"
             ],
             [
              0.8888888888888888,
              "#fdca26"
             ],
             [
              1,
              "#f0f921"
             ]
            ],
            "type": "surface"
           }
          ],
          "table": [
           {
            "cells": {
             "fill": {
              "color": "#EBF0F8"
             },
             "line": {
              "color": "white"
             }
            },
            "header": {
             "fill": {
              "color": "#C8D4E3"
             },
             "line": {
              "color": "white"
             }
            },
            "type": "table"
           }
          ]
         },
         "layout": {
          "annotationdefaults": {
           "arrowcolor": "#2a3f5f",
           "arrowhead": 0,
           "arrowwidth": 1
          },
          "autotypenumbers": "strict",
          "coloraxis": {
           "colorbar": {
            "outlinewidth": 0,
            "ticks": ""
           }
          },
          "colorscale": {
           "diverging": [
            [
             0,
             "#8e0152"
            ],
            [
             0.1,
             "#c51b7d"
            ],
            [
             0.2,
             "#de77ae"
            ],
            [
             0.3,
             "#f1b6da"
            ],
            [
             0.4,
             "#fde0ef"
            ],
            [
             0.5,
             "#f7f7f7"
            ],
            [
             0.6,
             "#e6f5d0"
            ],
            [
             0.7,
             "#b8e186"
            ],
            [
             0.8,
             "#7fbc41"
            ],
            [
             0.9,
             "#4d9221"
            ],
            [
             1,
             "#276419"
            ]
           ],
           "sequential": [
            [
             0,
             "#0d0887"
            ],
            [
             0.1111111111111111,
             "#46039f"
            ],
            [
             0.2222222222222222,
             "#7201a8"
            ],
            [
             0.3333333333333333,
             "#9c179e"
            ],
            [
             0.4444444444444444,
             "#bd3786"
            ],
            [
             0.5555555555555556,
             "#d8576b"
            ],
            [
             0.6666666666666666,
             "#ed7953"
            ],
            [
             0.7777777777777778,
             "#fb9f3a"
            ],
            [
             0.8888888888888888,
             "#fdca26"
            ],
            [
             1,
             "#f0f921"
            ]
           ],
           "sequentialminus": [
            [
             0,
             "#0d0887"
            ],
            [
             0.1111111111111111,
             "#46039f"
            ],
            [
             0.2222222222222222,
             "#7201a8"
            ],
            [
             0.3333333333333333,
             "#9c179e"
            ],
            [
             0.4444444444444444,
             "#bd3786"
            ],
            [
             0.5555555555555556,
             "#d8576b"
            ],
            [
             0.6666666666666666,
             "#ed7953"
            ],
            [
             0.7777777777777778,
             "#fb9f3a"
            ],
            [
             0.8888888888888888,
             "#fdca26"
            ],
            [
             1,
             "#f0f921"
            ]
           ]
          },
          "colorway": [
           "#636efa",
           "#EF553B",
           "#00cc96",
           "#ab63fa",
           "#FFA15A",
           "#19d3f3",
           "#FF6692",
           "#B6E880",
           "#FF97FF",
           "#FECB52"
          ],
          "font": {
           "color": "#2a3f5f"
          },
          "geo": {
           "bgcolor": "white",
           "lakecolor": "white",
           "landcolor": "#E5ECF6",
           "showlakes": true,
           "showland": true,
           "subunitcolor": "white"
          },
          "hoverlabel": {
           "align": "left"
          },
          "hovermode": "closest",
          "mapbox": {
           "style": "light"
          },
          "paper_bgcolor": "white",
          "plot_bgcolor": "#E5ECF6",
          "polar": {
           "angularaxis": {
            "gridcolor": "white",
            "linecolor": "white",
            "ticks": ""
           },
           "bgcolor": "#E5ECF6",
           "radialaxis": {
            "gridcolor": "white",
            "linecolor": "white",
            "ticks": ""
           }
          },
          "scene": {
           "xaxis": {
            "backgroundcolor": "#E5ECF6",
            "gridcolor": "white",
            "gridwidth": 2,
            "linecolor": "white",
            "showbackground": true,
            "ticks": "",
            "zerolinecolor": "white"
           },
           "yaxis": {
            "backgroundcolor": "#E5ECF6",
            "gridcolor": "white",
            "gridwidth": 2,
            "linecolor": "white",
            "showbackground": true,
            "ticks": "",
            "zerolinecolor": "white"
           },
           "zaxis": {
            "backgroundcolor": "#E5ECF6",
            "gridcolor": "white",
            "gridwidth": 2,
            "linecolor": "white",
            "showbackground": true,
            "ticks": "",
            "zerolinecolor": "white"
           }
          },
          "shapedefaults": {
           "line": {
            "color": "#2a3f5f"
           }
          },
          "ternary": {
           "aaxis": {
            "gridcolor": "white",
            "linecolor": "white",
            "ticks": ""
           },
           "baxis": {
            "gridcolor": "white",
            "linecolor": "white",
            "ticks": ""
           },
           "bgcolor": "#E5ECF6",
           "caxis": {
            "gridcolor": "white",
            "linecolor": "white",
            "ticks": ""
           }
          },
          "title": {
           "x": 0.05
          },
          "xaxis": {
           "automargin": true,
           "gridcolor": "white",
           "linecolor": "white",
           "ticks": "",
           "title": {
            "standoff": 15
           },
           "zerolinecolor": "white",
           "zerolinewidth": 2
          },
          "yaxis": {
           "automargin": true,
           "gridcolor": "white",
           "linecolor": "white",
           "ticks": "",
           "title": {
            "standoff": 15
           },
           "zerolinecolor": "white",
           "zerolinewidth": 2
          }
         }
        },
        "title": {
         "font": {
          "size": 18
         },
         "text": "<b>Total number of Employees in Houston over Years</b>",
         "x": 0.5
        },
        "xaxis": {
         "title": {
          "text": "Years"
         }
        },
        "yaxis": {
         "title": {
          "text": "Mining, Logging and Construction"
         }
        }
       }
      },
      "text/html": [
       "<div>                            <div id=\"cca22f0c-cf7b-414c-955c-ffb291652d2d\" class=\"plotly-graph-div\" style=\"height:525px; width:100%;\"></div>            <script type=\"text/javascript\">                require([\"plotly\"], function(Plotly) {                    window.PLOTLYENV=window.PLOTLYENV || {};                                    if (document.getElementById(\"cca22f0c-cf7b-414c-955c-ffb291652d2d\")) {                    Plotly.newPlot(                        \"cca22f0c-cf7b-414c-955c-ffb291652d2d\",                        [{\"x\":[\"2011\",\"2012\",\"2013\",\"2014\",\"2015\",\"2016\",\"2017\",\"2018\",\"2019\",\"2020\"],\"y\":[3174.4,3385.3,3595.1,3791.2999999999997,3799.2,3599.3,3500.5,3617.4,3792.8,3409.4],\"type\":\"scatter\"}],                        {\"template\":{\"data\":{\"histogram2dcontour\":[{\"type\":\"histogram2dcontour\",\"colorbar\":{\"outlinewidth\":0,\"ticks\":\"\"},\"colorscale\":[[0.0,\"#0d0887\"],[0.1111111111111111,\"#46039f\"],[0.2222222222222222,\"#7201a8\"],[0.3333333333333333,\"#9c179e\"],[0.4444444444444444,\"#bd3786\"],[0.5555555555555556,\"#d8576b\"],[0.6666666666666666,\"#ed7953\"],[0.7777777777777778,\"#fb9f3a\"],[0.8888888888888888,\"#fdca26\"],[1.0,\"#f0f921\"]]}],\"choropleth\":[{\"type\":\"choropleth\",\"colorbar\":{\"outlinewidth\":0,\"ticks\":\"\"}}],\"histogram2d\":[{\"type\":\"histogram2d\",\"colorbar\":{\"outlinewidth\":0,\"ticks\":\"\"},\"colorscale\":[[0.0,\"#0d0887\"],[0.1111111111111111,\"#46039f\"],[0.2222222222222222,\"#7201a8\"],[0.3333333333333333,\"#9c179e\"],[0.4444444444444444,\"#bd3786\"],[0.5555555555555556,\"#d8576b\"],[0.6666666666666666,\"#ed7953\"],[0.7777777777777778,\"#fb9f3a\"],[0.8888888888888888,\"#fdca26\"],[1.0,\"#f0f921\"]]}],\"heatmap\":[{\"type\":\"heatmap\",\"colorbar\":{\"outlinewidth\":0,\"ticks\":\"\"},\"colorscale\":[[0.0,\"#0d0887\"],[0.1111111111111111,\"#46039f\"],[0.2222222222222222,\"#7201a8\"],[0.3333333333333333,\"#9c179e\"],[0.4444444444444444,\"#bd3786\"],[0.5555555555555556,\"#d8576b\"],[0.6666666666666666,\"#ed7953\"],[0.7777777777777778,\"#fb9f3a\"],[0.8888888888888888,\"#fdca26\"],[1.0,\"#f0f921\"]]}],\"heatmapgl\":[{\"type\":\"heatmapgl\",\"colorbar\":{\"outlinewidth\":0,\"ticks\":\"\"},\"colorscale\":[[0.0,\"#0d0887\"],[0.1111111111111111,\"#46039f\"],[0.2222222222222222,\"#7201a8\"],[0.3333333333333333,\"#9c179e\"],[0.4444444444444444,\"#bd3786\"],[0.5555555555555556,\"#d8576b\"],[0.6666666666666666,\"#ed7953\"],[0.7777777777777778,\"#fb9f3a\"],[0.8888888888888888,\"#fdca26\"],[1.0,\"#f0f921\"]]}],\"contourcarpet\":[{\"type\":\"contourcarpet\",\"colorbar\":{\"outlinewidth\":0,\"ticks\":\"\"}}],\"contour\":[{\"type\":\"contour\",\"colorbar\":{\"outlinewidth\":0,\"ticks\":\"\"},\"colorscale\":[[0.0,\"#0d0887\"],[0.1111111111111111,\"#46039f\"],[0.2222222222222222,\"#7201a8\"],[0.3333333333333333,\"#9c179e\"],[0.4444444444444444,\"#bd3786\"],[0.5555555555555556,\"#d8576b\"],[0.6666666666666666,\"#ed7953\"],[0.7777777777777778,\"#fb9f3a\"],[0.8888888888888888,\"#fdca26\"],[1.0,\"#f0f921\"]]}],\"surface\":[{\"type\":\"surface\",\"colorbar\":{\"outlinewidth\":0,\"ticks\":\"\"},\"colorscale\":[[0.0,\"#0d0887\"],[0.1111111111111111,\"#46039f\"],[0.2222222222222222,\"#7201a8\"],[0.3333333333333333,\"#9c179e\"],[0.4444444444444444,\"#bd3786\"],[0.5555555555555556,\"#d8576b\"],[0.6666666666666666,\"#ed7953\"],[0.7777777777777778,\"#fb9f3a\"],[0.8888888888888888,\"#fdca26\"],[1.0,\"#f0f921\"]]}],\"mesh3d\":[{\"type\":\"mesh3d\",\"colorbar\":{\"outlinewidth\":0,\"ticks\":\"\"}}],\"scatter\":[{\"fillpattern\":{\"fillmode\":\"overlay\",\"size\":10,\"solidity\":0.2},\"type\":\"scatter\"}],\"parcoords\":[{\"type\":\"parcoords\",\"line\":{\"colorbar\":{\"outlinewidth\":0,\"ticks\":\"\"}}}],\"scatterpolargl\":[{\"type\":\"scatterpolargl\",\"marker\":{\"colorbar\":{\"outlinewidth\":0,\"ticks\":\"\"}}}],\"bar\":[{\"error_x\":{\"color\":\"#2a3f5f\"},\"error_y\":{\"color\":\"#2a3f5f\"},\"marker\":{\"line\":{\"color\":\"#E5ECF6\",\"width\":0.5},\"pattern\":{\"fillmode\":\"overlay\",\"size\":10,\"solidity\":0.2}},\"type\":\"bar\"}],\"scattergeo\":[{\"type\":\"scattergeo\",\"marker\":{\"colorbar\":{\"outlinewidth\":0,\"ticks\":\"\"}}}],\"scatterpolar\":[{\"type\":\"scatterpolar\",\"marker\":{\"colorbar\":{\"outlinewidth\":0,\"ticks\":\"\"}}}],\"histogram\":[{\"marker\":{\"pattern\":{\"fillmode\":\"overlay\",\"size\":10,\"solidity\":0.2}},\"type\":\"histogram\"}],\"scattergl\":[{\"type\":\"scattergl\",\"marker\":{\"colorbar\":{\"outlinewidth\":0,\"ticks\":\"\"}}}],\"scatter3d\":[{\"type\":\"scatter3d\",\"line\":{\"colorbar\":{\"outlinewidth\":0,\"ticks\":\"\"}},\"marker\":{\"colorbar\":{\"outlinewidth\":0,\"ticks\":\"\"}}}],\"scattermapbox\":[{\"type\":\"scattermapbox\",\"marker\":{\"colorbar\":{\"outlinewidth\":0,\"ticks\":\"\"}}}],\"scatterternary\":[{\"type\":\"scatterternary\",\"marker\":{\"colorbar\":{\"outlinewidth\":0,\"ticks\":\"\"}}}],\"scattercarpet\":[{\"type\":\"scattercarpet\",\"marker\":{\"colorbar\":{\"outlinewidth\":0,\"ticks\":\"\"}}}],\"carpet\":[{\"aaxis\":{\"endlinecolor\":\"#2a3f5f\",\"gridcolor\":\"white\",\"linecolor\":\"white\",\"minorgridcolor\":\"white\",\"startlinecolor\":\"#2a3f5f\"},\"baxis\":{\"endlinecolor\":\"#2a3f5f\",\"gridcolor\":\"white\",\"linecolor\":\"white\",\"minorgridcolor\":\"white\",\"startlinecolor\":\"#2a3f5f\"},\"type\":\"carpet\"}],\"table\":[{\"cells\":{\"fill\":{\"color\":\"#EBF0F8\"},\"line\":{\"color\":\"white\"}},\"header\":{\"fill\":{\"color\":\"#C8D4E3\"},\"line\":{\"color\":\"white\"}},\"type\":\"table\"}],\"barpolar\":[{\"marker\":{\"line\":{\"color\":\"#E5ECF6\",\"width\":0.5},\"pattern\":{\"fillmode\":\"overlay\",\"size\":10,\"solidity\":0.2}},\"type\":\"barpolar\"}],\"pie\":[{\"automargin\":true,\"type\":\"pie\"}]},\"layout\":{\"autotypenumbers\":\"strict\",\"colorway\":[\"#636efa\",\"#EF553B\",\"#00cc96\",\"#ab63fa\",\"#FFA15A\",\"#19d3f3\",\"#FF6692\",\"#B6E880\",\"#FF97FF\",\"#FECB52\"],\"font\":{\"color\":\"#2a3f5f\"},\"hovermode\":\"closest\",\"hoverlabel\":{\"align\":\"left\"},\"paper_bgcolor\":\"white\",\"plot_bgcolor\":\"#E5ECF6\",\"polar\":{\"bgcolor\":\"#E5ECF6\",\"angularaxis\":{\"gridcolor\":\"white\",\"linecolor\":\"white\",\"ticks\":\"\"},\"radialaxis\":{\"gridcolor\":\"white\",\"linecolor\":\"white\",\"ticks\":\"\"}},\"ternary\":{\"bgcolor\":\"#E5ECF6\",\"aaxis\":{\"gridcolor\":\"white\",\"linecolor\":\"white\",\"ticks\":\"\"},\"baxis\":{\"gridcolor\":\"white\",\"linecolor\":\"white\",\"ticks\":\"\"},\"caxis\":{\"gridcolor\":\"white\",\"linecolor\":\"white\",\"ticks\":\"\"}},\"coloraxis\":{\"colorbar\":{\"outlinewidth\":0,\"ticks\":\"\"}},\"colorscale\":{\"sequential\":[[0.0,\"#0d0887\"],[0.1111111111111111,\"#46039f\"],[0.2222222222222222,\"#7201a8\"],[0.3333333333333333,\"#9c179e\"],[0.4444444444444444,\"#bd3786\"],[0.5555555555555556,\"#d8576b\"],[0.6666666666666666,\"#ed7953\"],[0.7777777777777778,\"#fb9f3a\"],[0.8888888888888888,\"#fdca26\"],[1.0,\"#f0f921\"]],\"sequentialminus\":[[0.0,\"#0d0887\"],[0.1111111111111111,\"#46039f\"],[0.2222222222222222,\"#7201a8\"],[0.3333333333333333,\"#9c179e\"],[0.4444444444444444,\"#bd3786\"],[0.5555555555555556,\"#d8576b\"],[0.6666666666666666,\"#ed7953\"],[0.7777777777777778,\"#fb9f3a\"],[0.8888888888888888,\"#fdca26\"],[1.0,\"#f0f921\"]],\"diverging\":[[0,\"#8e0152\"],[0.1,\"#c51b7d\"],[0.2,\"#de77ae\"],[0.3,\"#f1b6da\"],[0.4,\"#fde0ef\"],[0.5,\"#f7f7f7\"],[0.6,\"#e6f5d0\"],[0.7,\"#b8e186\"],[0.8,\"#7fbc41\"],[0.9,\"#4d9221\"],[1,\"#276419\"]]},\"xaxis\":{\"gridcolor\":\"white\",\"linecolor\":\"white\",\"ticks\":\"\",\"title\":{\"standoff\":15},\"zerolinecolor\":\"white\",\"automargin\":true,\"zerolinewidth\":2},\"yaxis\":{\"gridcolor\":\"white\",\"linecolor\":\"white\",\"ticks\":\"\",\"title\":{\"standoff\":15},\"zerolinecolor\":\"white\",\"automargin\":true,\"zerolinewidth\":2},\"scene\":{\"xaxis\":{\"backgroundcolor\":\"#E5ECF6\",\"gridcolor\":\"white\",\"linecolor\":\"white\",\"showbackground\":true,\"ticks\":\"\",\"zerolinecolor\":\"white\",\"gridwidth\":2},\"yaxis\":{\"backgroundcolor\":\"#E5ECF6\",\"gridcolor\":\"white\",\"linecolor\":\"white\",\"showbackground\":true,\"ticks\":\"\",\"zerolinecolor\":\"white\",\"gridwidth\":2},\"zaxis\":{\"backgroundcolor\":\"#E5ECF6\",\"gridcolor\":\"white\",\"linecolor\":\"white\",\"showbackground\":true,\"ticks\":\"\",\"zerolinecolor\":\"white\",\"gridwidth\":2}},\"shapedefaults\":{\"line\":{\"color\":\"#2a3f5f\"}},\"annotationdefaults\":{\"arrowcolor\":\"#2a3f5f\",\"arrowhead\":0,\"arrowwidth\":1},\"geo\":{\"bgcolor\":\"white\",\"landcolor\":\"#E5ECF6\",\"subunitcolor\":\"white\",\"showland\":true,\"showlakes\":true,\"lakecolor\":\"white\"},\"title\":{\"x\":0.05},\"mapbox\":{\"style\":\"light\"}}},\"title\":{\"font\":{\"size\":18},\"text\":\"<b>Total number of Employees in Houston over Years</b>\",\"x\":0.5},\"showlegend\":false,\"xaxis\":{\"title\":{\"text\":\"Years\"}},\"yaxis\":{\"title\":{\"text\":\"Mining, Logging and Construction\"}}},                        {\"responsive\": true}                    ).then(function(){\n",
       "                            \n",
       "var gd = document.getElementById('cca22f0c-cf7b-414c-955c-ffb291652d2d');\n",
       "var x = new MutationObserver(function (mutations, observer) {{\n",
       "        var display = window.getComputedStyle(gd).display;\n",
       "        if (!display || display === 'none') {{\n",
       "            console.log([gd, 'removed!']);\n",
       "            Plotly.purge(gd);\n",
       "            observer.disconnect();\n",
       "        }}\n",
       "}});\n",
       "\n",
       "// Listen for the removal of the full notebook cells\n",
       "var notebookContainer = gd.closest('#notebook-container');\n",
       "if (notebookContainer) {{\n",
       "    x.observe(notebookContainer, {childList: true});\n",
       "}}\n",
       "\n",
       "// Listen for the clearing of the current output cell\n",
       "var outputEl = gd.closest('.output');\n",
       "if (outputEl) {{\n",
       "    x.observe(outputEl, {childList: true});\n",
       "}}\n",
       "\n",
       "                        })                };                });            </script>        </div>"
      ]
     },
     "metadata": {},
     "output_type": "display_data"
    }
   ],
   "source": [
    "fig5 = go.Figure()\n",
    "data5=data.groupby(['state', 'area', 'Year']).sum().reset_index()\n",
    "Houston = data5[data5[\"area\"] ==\"Houston-The Woodlands-Sugar Land\"]\n",
    "\n",
    "fig5.add_trace(\n",
    "    go.Line(x=Houston[\"Year\"],y=Houston[\"Mining, Logging and Construction\"]))\n",
    "\n",
    "# fig4.add_trace(\n",
    "#     go.Bar(x=Houston[\"Year\"],y=Houston[\"Mining, Logging and Construction\"]))\n",
    "fig5.update_layout(\n",
    "    showlegend=False,\n",
    "    title={'text': '<b>Total number of Employees in Houston over Years</b>', 'font': {'size': 18}},\n",
    "    title_x=0.5\n",
    ")\n",
    "\n",
    "fig5.update_xaxes(title_text=\"Years\")\n",
    "fig5.update_yaxes(title_text=\"Mining, Logging and Construction\")\n",
    "\n",
    "\n",
    "fig5.show()"
   ]
  },
  {
   "cell_type": "code",
   "execution_count": 86,
   "id": "9fc54f54",
   "metadata": {},
   "outputs": [],
   "source": [
    "# data6=data.groupby(['state','Year','month']).sum().reset_index()\n",
    "\n",
    "# texas = data6[data6[\"state\"] == \"Texas\"]\n",
    "# data_1 = texas.loc[texas['Year'].isin([\"2011\", \"2012\", \"2013\"])] \n",
    "# data_2 = texas.loc[texas['Year'].isin([\"2014\", \"2015\", \"2016\", \"2017\", \"2018\"])]\n",
    "# data_3 = texas.loc[texas['Year'].isin([\"2019\", \"2020\"])]\n",
    "\n",
    "# figures = [\n",
    "#     px.bar(data_1, x=\"month\", y=\"Mining, Logging and Construction\", color=\"Year\"),\n",
    "#     px.scatter(data_2, x=\"month\", y=\"Mining, Logging and Construction\", color=\"Year\"),\n",
    "#     px.bar(data_3, x=\"month\", y=\"Mining, Logging and Construction\", color=\"Year\")\n",
    "# ]\n",
    "\n",
    "# fig = make_subplots(rows=len(figures), cols=1, x_title='month', y_title='Number of employees in Construction') \n",
    "\n",
    "# for i, figure in enumerate(figures):\n",
    "#     for trace in range(len(figure[\"data\"])):\n",
    "#         fig.append_trace(figure[\"data\"][trace], row=i+1, col=1)\n",
    "\n",
    "# fig.update_layout(height = 1000, width = 1600, autosize = False, \n",
    "#                   title={'text': \"Yearly changes for Texas state\", 'font': {'size': 25}}, title_x=0.5)\n",
    "                   \n",
    "# plot(fig)\n",
    "\n"
   ]
  },
  {
   "cell_type": "code",
   "execution_count": 87,
   "id": "ca7bb3d0",
   "metadata": {},
   "outputs": [],
   "source": [
    "# fig7 = px.scatter(data_3, x=\"month\", y=\"Mining, Logging and Construction\", color=\"Year\")\n",
    "# fig7.update_layout(title_text='Change in employement numbers in texas during COVID', title_x=0.5)\n",
    "\n",
    "# fig7.show()"
   ]
  },
  {
   "cell_type": "code",
   "execution_count": 88,
   "id": "2565d920",
   "metadata": {},
   "outputs": [],
   "source": [
    "# changeTx1 = texas.loc[texas['Year'].isin([\"2015\", \"2016\", \"2017\"])]\n",
    "# cngTx = px.line(changeTx1, x=\"month\", y=\"Mining, Logging and Construction\", color=\"Year\")\n",
    "# cngTx.update_layout(title_text='Change in employement numbers in texas during oil bust', title_x=0.5)\n",
    "\n",
    "# cngTx.show()"
   ]
  },
  {
   "cell_type": "code",
   "execution_count": 89,
   "id": "9dec4ad4",
   "metadata": {},
   "outputs": [],
   "source": [
    "# data6=data.groupby(['state','Year','month']).sum().reset_index()\n",
    "# display(data6)"
   ]
  },
  {
   "cell_type": "code",
   "execution_count": 90,
   "id": "4221abb1",
   "metadata": {},
   "outputs": [],
   "source": [
    "# Nyk = data6[data6[\"state\"] == \"New York\"]\n",
    "\n",
    "# data_n1 = Nyk.loc[Nyk['Year'].isin([\"2011\", \"2012\", \"2013\"])] \n",
    "# data_n2 = Nyk.loc[Nyk['Year'].isin([\"2014\", \"2015\", \"2016\", \"2017\", \"2018\"])]             \n",
    "# data_n3 = Nyk.loc[Nyk['Year'].isin([\"2019\", \"2020\"])]\n",
    "\n",
    "# figures = [\n",
    "#     px.bar(data_n1, x=\"month\", y=\"Mining, Logging and Construction\", color=\"Year\"),\n",
    "#     px.scatter(data_n2, x=\"month\", y=\"Mining, Logging and Construction\", color=\"Year\"),\n",
    "#     px.bar(data_n3, x=\"month\", y=\"Mining, Logging and Construction\", color=\"Year\")\n",
    "# ]\n",
    "\n",
    "# fig = make_subplots(rows=len(figures), cols=1,x_title='month', y_title='Number of employees in Construction') \n",
    "\n",
    "# for i, figure in enumerate(figures):\n",
    "#     for trace in range(len(figure[\"data\"])):\n",
    "#         fig.append_trace(figure[\"data\"][trace], row=i+1, col=1)\n",
    "        \n",
    "# fig.update_layout(height = 1000, width = 1600, autosize = False, \n",
    "#                   title={'text': \"Yearly changes for New York state\", 'font': {'size': 25}}, title_x=0.5)\n",
    "      \n",
    "# plot(fig)\n",
    "\n"
   ]
  },
  {
   "cell_type": "code",
   "execution_count": 91,
   "id": "bc55799a",
   "metadata": {},
   "outputs": [],
   "source": [
    "# Dc = data6[data6[\"state\"] == \"District of Columbia\"]\n",
    "\n",
    "# data_d1 = Dc.loc[Dc['Year'].isin([\"2011\", \"2012\", \"2013\"])] \n",
    "# data_d2 = Dc.loc[Dc['Year'].isin([\"2014\", \"2015\", \"2016\", \"2017\", \"2018\"])]             \n",
    "# data_d3 = Dc.loc[Dc['Year'].isin([\"2019\", \"2020\"])]\n",
    "\n",
    "# figures = [\n",
    "#     px.bar(data_d1, x=\"month\", y=\"Mining, Logging and Construction\", color=\"Year\"),\n",
    "#     px.scatter(data_d2, x=\"month\", y=\"Mining, Logging and Construction\", color=\"Year\"),\n",
    "#     px.bar(data_d3, x=\"month\", y=\"Mining, Logging and Construction\", color=\"Year\")\n",
    "# ]\n",
    "\n",
    "# fig = make_subplots(rows=len(figures), cols=1,x_title='month', y_title='Number of employees in Construction') \n",
    "\n",
    "# for i, figure in enumerate(figures):\n",
    "#     for trace in range(len(figure[\"data\"])):\n",
    "#         fig.append_trace(figure[\"data\"][trace], row=i+1, col=1)\n",
    "        \n",
    "        \n",
    "# fig.update_layout(height = 1000, width = 1600, autosize = False, \n",
    "#                   title={'text': \"Yearly changes at District of Columbia\", 'font': {'size': 25}}, title_x=0.5)\n",
    "  \n",
    "        \n",
    "# plot(fig)\n"
   ]
  },
  {
   "cell_type": "code",
   "execution_count": 92,
   "id": "e6d6353d",
   "metadata": {},
   "outputs": [],
   "source": [
    "\n",
    "# Miss = data6[data6[\"state\"] == \"Missouri\"]\n",
    "\n",
    "# data_miss1 = Miss.loc[Miss['Year'].isin([\"2011\", \"2012\", \"2013\"])] \n",
    "# data_miss2 = Miss.loc[Miss['Year'].isin([\"2014\", \"2015\", \"2016\", \"2017\", \"2018\"])]             \n",
    "# data_miss3 = Miss.loc[Miss['Year'].isin([\"2019\", \"2020\"])]\n",
    "\n",
    "# figures = [\n",
    "#     px.bar(data_miss1, x=\"month\", y=\"Mining, Logging and Construction\", color=\"Year\"),\n",
    "#     px.scatter(data_miss2, x=\"month\", y=\"Mining, Logging and Construction\", color=\"Year\"),\n",
    "#     px.bar(data_miss3, x=\"month\", y=\"Mining, Logging and Construction\", color=\"Year\")\n",
    "# ]\n",
    "\n",
    "# fig = make_subplots(rows=len(figures), cols=1,x_title='month', y_title='Number of employees in Construction') \n",
    "\n",
    "# for i, figure in enumerate(figures):\n",
    "#     for trace in range(len(figure[\"data\"])):\n",
    "#         fig.append_trace(figure[\"data\"][trace], row=i+1, col=1)\n",
    "        \n",
    "# fig.update_layout(height = 1000, width = 1600, autosize = False, \n",
    "#                   title={'text': \"Yearly changes at Missouri state\", 'font': {'size': 25}}, title_x=0.5)\n",
    "  \n",
    "        \n",
    "# plot(fig)\n",
    "\n"
   ]
  },
  {
   "cell_type": "code",
   "execution_count": 93,
   "id": "f46a8784",
   "metadata": {},
   "outputs": [],
   "source": [
    "# Pen = data6[data6[\"state\"] == \"Pennsylvania\"]\n",
    "# changePe1 = Pen.loc[Pen['Year'].isin([\"2019\", \"2020\"])]\n",
    "# cngPe = px.line(changePe1, x=\"month\", y=\"Mining, Logging and Construction\", color=\"Year\")\n",
    "# cngPe.update_layout(title_text='Change in employement numbers in Pennsylvania during COVID', title_x=0.5)\n",
    "\n",
    "# cngPe.show()\n"
   ]
  },
  {
   "cell_type": "code",
   "execution_count": 94,
   "id": "e801edbc",
   "metadata": {},
   "outputs": [],
   "source": [
    "# illi = data6[data6[\"state\"] == \"Illinois\"]\n",
    "# changeIl1 = illi.loc[illi['Year'].isin([\"2019\", \"2020\"])]\n",
    "# cngIl = px.line(changeIl1, x=\"month\", y=\"Mining, Logging and Construction\", color=\"Year\")\n",
    "# cngIl.update_layout(title_text='Change in employement numbers in Illinois during COVID', title_x=0.5)\n",
    "\n",
    "# cngIl.show()"
   ]
  },
  {
   "cell_type": "code",
   "execution_count": 95,
   "id": "7e21fa1e",
   "metadata": {},
   "outputs": [],
   "source": [
    "# Mi = data6[data6[\"state\"] == \"Massachusetts\"]\n",
    "# data_M1 = Mi.loc[Mi['Year'].isin([\"2011\", \"2012\", \"2013\"])] \n",
    "# data_M2 = Mi.loc[Mi['Year'].isin([\"2014\", \"2015\", \"2016\", \"2017\", \"2018\"])]             \n",
    "# data_M3 = Mi.loc[Mi['Year'].isin([\"2019\", \"2020\"])]\n",
    "\n",
    "# figures = [\n",
    "#     px.bar(data_M1, x=\"month\", y=\"Mining, Logging and Construction\", color=\"Year\"),\n",
    "#     px.scatter(data_M2, x=\"month\", y=\"Mining, Logging and Construction\", color=\"Year\"),\n",
    "#     px.bar(data_M3, x=\"month\", y=\"Mining, Logging and Construction\", color=\"Year\")\n",
    "# ]\n",
    "\n",
    "# fig = make_subplots(rows=len(figures), cols=1, x_title='month', y_title='Number of employees in Construction') \n",
    "\n",
    "# for i, figure in enumerate(figures):\n",
    "#     for trace in range(len(figure[\"data\"])):\n",
    "#         fig.append_trace(figure[\"data\"][trace], row=i+1, col=1)\n",
    "# fig.update_layout(height = 1000, width = 1600, autosize = False, \n",
    "#                   title={'text': \"Yearly changes at Massachusetts\", 'font': {'size': 25}}, title_x=0.5)\n",
    "  \n",
    "\n",
    "# plot(fig)\n",
    "\n"
   ]
  },
  {
   "cell_type": "code",
   "execution_count": 96,
   "id": "0871b275",
   "metadata": {},
   "outputs": [],
   "source": [
    "# Season = []\n",
    "# data7=data.groupby(['Year','month']).sum().reset_index()\n",
    "# for s in data7['month'].values:\n",
    "#     if s==12 or s==1 or s==2:\n",
    "#         Season.append(\"Winter\")\n",
    "#     elif s==3 or s==4 or s==5:\n",
    "#         Season.append(\"Spring\")\n",
    "#     elif s==6 or s==7 or s==8:\n",
    "#         Season.append(\"Summer\")\n",
    "#     else:\n",
    "#         Season.append(\"Fall\")\n",
    "# Season\n",
    "# data7['Season'] = Season\n",
    "\n",
    "# fig8 = px.scatter(data7, x=\"Year\", y=\"Mining, Logging and Construction\", color=\"Season\")\n",
    "# fig8.update_layout(title_text='Change in Number of Employee at different Seasons', title_x=0.5)\n",
    "# fig8.show()"
   ]
  },
  {
   "cell_type": "code",
   "execution_count": 97,
   "id": "e8cb8844",
   "metadata": {},
   "outputs": [
    {
     "data": {
      "text/html": [
       "<div>\n",
       "<style scoped>\n",
       "    .dataframe tbody tr th:only-of-type {\n",
       "        vertical-align: middle;\n",
       "    }\n",
       "\n",
       "    .dataframe tbody tr th {\n",
       "        vertical-align: top;\n",
       "    }\n",
       "\n",
       "    .dataframe thead th {\n",
       "        text-align: right;\n",
       "    }\n",
       "</style>\n",
       "<table border=\"1\" class=\"dataframe\">\n",
       "  <thead>\n",
       "    <tr style=\"text-align: right;\">\n",
       "      <th></th>\n",
       "      <th>state</th>\n",
       "      <th>area</th>\n",
       "      <th>time</th>\n",
       "      <th>Total Nonfarm</th>\n",
       "      <th>Mining, Logging and Construction</th>\n",
       "      <th>month</th>\n",
       "      <th>Year</th>\n",
       "      <th>day</th>\n",
       "    </tr>\n",
       "  </thead>\n",
       "  <tbody>\n",
       "    <tr>\n",
       "      <th>0</th>\n",
       "      <td>Alabama</td>\n",
       "      <td>Anniston-Oxford-Jacksonville</td>\n",
       "      <td>jan 1, 2011</td>\n",
       "      <td>48.3</td>\n",
       "      <td>1.0</td>\n",
       "      <td>jan</td>\n",
       "      <td>2011</td>\n",
       "      <td>1</td>\n",
       "    </tr>\n",
       "    <tr>\n",
       "      <th>1</th>\n",
       "      <td>Alabama</td>\n",
       "      <td>Anniston-Oxford-Jacksonville</td>\n",
       "      <td>feb 1, 2011</td>\n",
       "      <td>48.2</td>\n",
       "      <td>0.9</td>\n",
       "      <td>feb</td>\n",
       "      <td>2011</td>\n",
       "      <td>1</td>\n",
       "    </tr>\n",
       "    <tr>\n",
       "      <th>2</th>\n",
       "      <td>Alabama</td>\n",
       "      <td>Anniston-Oxford-Jacksonville</td>\n",
       "      <td>mar 1, 2011</td>\n",
       "      <td>48.6</td>\n",
       "      <td>1.0</td>\n",
       "      <td>mar</td>\n",
       "      <td>2011</td>\n",
       "      <td>1</td>\n",
       "    </tr>\n",
       "    <tr>\n",
       "      <th>3</th>\n",
       "      <td>Alabama</td>\n",
       "      <td>Anniston-Oxford-Jacksonville</td>\n",
       "      <td>apr 1, 2011</td>\n",
       "      <td>48.6</td>\n",
       "      <td>0.9</td>\n",
       "      <td>apr</td>\n",
       "      <td>2011</td>\n",
       "      <td>1</td>\n",
       "    </tr>\n",
       "    <tr>\n",
       "      <th>4</th>\n",
       "      <td>Alabama</td>\n",
       "      <td>Anniston-Oxford-Jacksonville</td>\n",
       "      <td>may 1, 2011</td>\n",
       "      <td>48.6</td>\n",
       "      <td>1.0</td>\n",
       "      <td>may</td>\n",
       "      <td>2011</td>\n",
       "      <td>1</td>\n",
       "    </tr>\n",
       "    <tr>\n",
       "      <th>...</th>\n",
       "      <td>...</td>\n",
       "      <td>...</td>\n",
       "      <td>...</td>\n",
       "      <td>...</td>\n",
       "      <td>...</td>\n",
       "      <td>...</td>\n",
       "      <td>...</td>\n",
       "      <td>...</td>\n",
       "    </tr>\n",
       "    <tr>\n",
       "      <th>57779</th>\n",
       "      <td>Wyoming</td>\n",
       "      <td>Cheyenne</td>\n",
       "      <td>dec 1, 2020</td>\n",
       "      <td>46.0</td>\n",
       "      <td>3.5</td>\n",
       "      <td>dec</td>\n",
       "      <td>2020</td>\n",
       "      <td>1</td>\n",
       "    </tr>\n",
       "    <tr>\n",
       "      <th>57780</th>\n",
       "      <td>Wyoming</td>\n",
       "      <td>Cheyenne</td>\n",
       "      <td>jan 1, 2021</td>\n",
       "      <td>45.3</td>\n",
       "      <td>3.3</td>\n",
       "      <td>jan</td>\n",
       "      <td>2021</td>\n",
       "      <td>1</td>\n",
       "    </tr>\n",
       "    <tr>\n",
       "      <th>57781</th>\n",
       "      <td>Wyoming</td>\n",
       "      <td>Cheyenne</td>\n",
       "      <td>feb 1, 2021</td>\n",
       "      <td>45.4</td>\n",
       "      <td>3.3</td>\n",
       "      <td>feb</td>\n",
       "      <td>2021</td>\n",
       "      <td>1</td>\n",
       "    </tr>\n",
       "    <tr>\n",
       "      <th>57782</th>\n",
       "      <td>Wyoming</td>\n",
       "      <td>Cheyenne</td>\n",
       "      <td>mar 1, 2021</td>\n",
       "      <td>45.8</td>\n",
       "      <td>3.4</td>\n",
       "      <td>mar</td>\n",
       "      <td>2021</td>\n",
       "      <td>1</td>\n",
       "    </tr>\n",
       "    <tr>\n",
       "      <th>57783</th>\n",
       "      <td>Wyoming</td>\n",
       "      <td>Cheyenne</td>\n",
       "      <td>apr 1, 2021</td>\n",
       "      <td>46.2</td>\n",
       "      <td>3.5</td>\n",
       "      <td>apr</td>\n",
       "      <td>2021</td>\n",
       "      <td>1</td>\n",
       "    </tr>\n",
       "  </tbody>\n",
       "</table>\n",
       "<p>57784 rows × 8 columns</p>\n",
       "</div>"
      ],
      "text/plain": [
       "         state                          area         time  Total Nonfarm  \\\n",
       "0      Alabama  Anniston-Oxford-Jacksonville  jan 1, 2011           48.3   \n",
       "1      Alabama  Anniston-Oxford-Jacksonville  feb 1, 2011           48.2   \n",
       "2      Alabama  Anniston-Oxford-Jacksonville  mar 1, 2011           48.6   \n",
       "3      Alabama  Anniston-Oxford-Jacksonville  apr 1, 2011           48.6   \n",
       "4      Alabama  Anniston-Oxford-Jacksonville  may 1, 2011           48.6   \n",
       "...        ...                           ...          ...            ...   \n",
       "57779  Wyoming                      Cheyenne  dec 1, 2020           46.0   \n",
       "57780  Wyoming                      Cheyenne  jan 1, 2021           45.3   \n",
       "57781  Wyoming                      Cheyenne  feb 1, 2021           45.4   \n",
       "57782  Wyoming                      Cheyenne  mar 1, 2021           45.8   \n",
       "57783  Wyoming                      Cheyenne  apr 1, 2021           46.2   \n",
       "\n",
       "       Mining, Logging and Construction month  Year day  \n",
       "0                                   1.0   jan  2011   1  \n",
       "1                                   0.9   feb  2011   1  \n",
       "2                                   1.0   mar  2011   1  \n",
       "3                                   0.9   apr  2011   1  \n",
       "4                                   1.0   may  2011   1  \n",
       "...                                 ...   ...   ...  ..  \n",
       "57779                               3.5   dec  2020   1  \n",
       "57780                               3.3   jan  2021   1  \n",
       "57781                               3.3   feb  2021   1  \n",
       "57782                               3.4   mar  2021   1  \n",
       "57783                               3.5   apr  2021   1  \n",
       "\n",
       "[57784 rows x 8 columns]"
      ]
     },
     "metadata": {},
     "output_type": "display_data"
    }
   ],
   "source": [
    "test= df_nonull.copy()\n",
    "test[['time_period', 'Year']] = test.time.str.split(', ', expand = True)\n",
    "test[['month', 'day']]= test.time_period.str.split(' ', expand=True)\n",
    "test.drop('time_period', axis=1, inplace=True)\n",
    "display(test)"
   ]
  },
  {
   "cell_type": "code",
   "execution_count": 98,
   "id": "a66d42da",
   "metadata": {},
   "outputs": [],
   "source": [
    "# d2011 = test[test[\"Year\"]==\"2011\"]\n",
    "# d2012 = test[test[\"Year\"]==\"2012\"]\n",
    "# d2013 = test[test[\"Year\"]==\"2013\"]\n",
    "# d2014 = test[test[\"Year\"]==\"2014\"]\n",
    "# d2015 = test[test[\"Year\"]==\"2015\"]\n",
    "# d2016 = test[test[\"Year\"]==\"2016\"]\n",
    "# d2017 = test[test[\"Year\"]==\"2017\"]\n",
    "# d2018 = test[test[\"Year\"]==\"2018\"]\n",
    "# d2019 = test[test[\"Year\"]==\"2019\"]\n",
    "# d2020 = test[test[\"Year\"]==\"2020\"]\n",
    "\n",
    "# d211=d2011.groupby(['state']).sum().reset_index()\n",
    "# d212=d2012.groupby(['state']).sum().reset_index()\n",
    "# d213=d2013.groupby(['state']).sum().reset_index()\n",
    "# d214=d2014.groupby(['state']).sum().reset_index()\n",
    "# d215=d2015.groupby(['state']).sum().reset_index()\n",
    "# d216=d2016.groupby(['state']).sum().reset_index()\n",
    "# d217=d2017.groupby(['state']).sum().reset_index()\n",
    "# d218=d2018.groupby(['state']).sum().reset_index()\n",
    "# d219=d2019.groupby(['state']).sum().reset_index()\n",
    "# d220=d2020.groupby(['state']).sum().reset_index()\n"
   ]
  },
  {
   "cell_type": "code",
   "execution_count": 99,
   "id": "ea925dab",
   "metadata": {},
   "outputs": [],
   "source": [
    "# dsub1 = d211.loc[d211['state'].isin([\"California\", \"District of Columbia\", \"Illinois\", \"Florida\", \"New York\", \"Pennsylvania\", \"Texas\", \"Washington\"])].drop(columns=['Total Nonfarm'])          \n",
    "# dsub2 = d212.loc[d211['state'].isin([\"California\", \"District of Columbia\", \"Illinois\", \"Florida\", \"New York\", \"Pennsylvania\", \"Texas\", \"Washington\"])].drop(columns=['Total Nonfarm'])             \n",
    "# dsub3 = d213.loc[d211['state'].isin([\"California\", \"District of Columbia\", \"Illinois\", \"Florida\", \"New York\", \"Pennsylvania\", \"Texas\", \"Washington\"])].drop(columns=['Total Nonfarm'])            \n",
    "# dsub4 = d214.loc[d211['state'].isin([\"California\", \"District of Columbia\", \"Illinois\", \"Florida\", \"New York\", \"Pennsylvania\", \"Texas\", \"Washington\"])].drop(columns=['Total Nonfarm'])           \n",
    "# dsub5 = d215.loc[d211['state'].isin([\"California\", \"District of Columbia\", \"Illinois\", \"Florida\", \"New York\", \"Pennsylvania\", \"Texas\", \"Washington\"])].drop(columns=['Total Nonfarm'])           \n",
    "# dsub6 = d216.loc[d211['state'].isin([\"California\", \"District of Columbia\", \"Illinois\", \"Florida\", \"New York\", \"Pennsylvania\", \"Texas\", \"Washington\"])].drop(columns=['Total Nonfarm'])           \n",
    "# dsub7 = d217.loc[d211['state'].isin([\"California\", \"District of Columbia\", \"Illinois\", \"Florida\", \"New York\", \"Pennsylvania\", \"Texas\", \"Washington\"])].drop(columns=['Total Nonfarm'])          \n",
    "# dsub8 = d218.loc[d211['state'].isin([\"California\", \"District of Columbia\", \"Illinois\", \"Florida\", \"New York\", \"Pennsylvania\", \"Texas\", \"Washington\"])].drop(columns=['Total Nonfarm'])          \n",
    "# dsub9 = d219.loc[d211['state'].isin([\"California\", \"District of Columbia\", \"Illinois\", \"Florida\", \"New York\", \"Pennsylvania\", \"Texas\", \"Washington\"])].drop(columns=['Total Nonfarm'])          \n",
    "# dsub220 = d220.loc[d211['state'].isin([\"California\", \"District of Columbia\", \"Illinois\", \"Florida\", \"New York\", \"Pennsylvania\", \"Texas\", \"Washington\"])].drop(columns=['Total Nonfarm'])        \n",
    "\n",
    "# dsub1.rename(columns = {'Mining, Logging and Construction':'Total_2011'}, inplace = True)\n",
    "# dsub2.rename(columns = {'Mining, Logging and Construction':'Total_2012'}, inplace = True)\n",
    "# dsub3.rename(columns = {'Mining, Logging and Construction':'Total_2013'}, inplace = True)\n",
    "# dsub4.rename(columns = {'Mining, Logging and Construction':'Total_2014'}, inplace = True)\n",
    "# dsub5.rename(columns = {'Mining, Logging and Construction':'Total_2015'}, inplace = True)\n",
    "# dsub6.rename(columns = {'Mining, Logging and Construction':'Total_2016'}, inplace = True)\n",
    "# dsub7.rename(columns = {'Mining, Logging and Construction':'Total_2017'}, inplace = True)\n",
    "# dsub8.rename(columns = {'Mining, Logging and Construction':'Total_2018'}, inplace = True)\n",
    "# dsub9.rename(columns = {'Mining, Logging and Construction':'Total_2019'}, inplace = True)\n",
    "# dsub220.rename(columns = {'Mining, Logging and Construction':'Total_2020'}, inplace = True)\n",
    "\n",
    "\n",
    "# df = dsub1.copy()\n",
    "# df = df.join(dsub2[\"Total_2012\"])\n",
    "# df = df.join(dsub3[\"Total_2013\"])\n",
    "# df = df.join(dsub4[\"Total_2014\"])\n",
    "# df = df.join(dsub5[\"Total_2015\"])\n",
    "# df = df.join(dsub6[\"Total_2016\"])\n",
    "# df = df.join(dsub7[\"Total_2017\"])\n",
    "# df = df.join(dsub8[\"Total_2018\"])\n",
    "# df = df.join(dsub9[\"Total_2019\"])\n",
    "# df = df.join(dsub220[\"Total_2020\"])\n",
    "\n",
    "# display(df)\n"
   ]
  },
  {
   "cell_type": "code",
   "execution_count": 100,
   "id": "78e4e202",
   "metadata": {},
   "outputs": [],
   "source": [
    "# df['diff_1_2'] = df['Total_2012'] - df['Total_2011']\n",
    "# df['diff_2_3'] = df['Total_2013'] - df['Total_2012']\n",
    "# df['diff_3_4'] = df['Total_2014'] - df['Total_2013']\n",
    "# df['diff_4_5'] = df['Total_2015'] - df['Total_2014']\n",
    "# df['diff_5_6'] = df['Total_2016'] - df['Total_2015']\n",
    "# df['diff_6_7'] = df['Total_2017'] - df['Total_2016']\n",
    "# df['diff_7_8'] = df['Total_2018'] - df['Total_2017']\n",
    "# df['diff_8_9'] = df['Total_2019'] - df['Total_2018']\n",
    "# df['diff_9_20'] = df['Total_2020'] - df['Total_2019']\n",
    "\n",
    "\n",
    "# df=df.drop(columns=['Total_2011','Total_2012','Total_2013','Total_2014','Total_2015','Total_2016', 'Total_2017','Total_2018','Total_2019','Total_2020'])\n",
    "\n",
    "\n"
   ]
  },
  {
   "cell_type": "code",
   "execution_count": 101,
   "id": "1148c24a",
   "metadata": {},
   "outputs": [],
   "source": [
    "# fig = px.scatter(df, x='state', y=df.columns)\n",
    "# series_names = [\"2012-2011\", \"2013-2012\",\"2014-2013\",\"2015-2014\",\"2016-2015\",\"2017-2016\",\"2018-2017\",\"2019-2018\",\"2020-2019\"]\n",
    "# for idx, name in enumerate(series_names):\n",
    "#     fig.data[idx].name = name\n",
    "#     fig.data[idx].hovertemplate = name\n",
    "# fig.show()\n",
    "\n"
   ]
  },
  {
   "cell_type": "code",
   "execution_count": null,
   "id": "c3ba799d",
   "metadata": {},
   "outputs": [],
   "source": []
  }
 ],
 "metadata": {
  "kernelspec": {
   "display_name": "Python 3 (ipykernel)",
   "language": "python",
   "name": "python3"
  },
  "language_info": {
   "codemirror_mode": {
    "name": "ipython",
    "version": 3
   },
   "file_extension": ".py",
   "mimetype": "text/x-python",
   "name": "python",
   "nbconvert_exporter": "python",
   "pygments_lexer": "ipython3",
   "version": "3.10.8"
  }
 },
 "nbformat": 4,
 "nbformat_minor": 5
}
